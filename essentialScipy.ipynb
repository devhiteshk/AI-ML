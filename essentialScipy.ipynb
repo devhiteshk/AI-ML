{
 "cells": [
  {
   "cell_type": "code",
   "execution_count": 4,
   "id": "294e8e8f",
   "metadata": {},
   "outputs": [
    {
     "name": "stdout",
     "output_type": "stream",
     "text": [
      "[[-0.5  1. ]\n",
      " [ 1.5 -2. ]]\n",
      "-2.0\n",
      "[ 5.37228132+0.j -0.37228132+0.j] [[ 0.82456484 -0.41597356]\n",
      " [ 0.56576746  0.90937671]]\n"
     ]
    }
   ],
   "source": [
    "# Scipy - for mathematical Operations\n",
    "\n",
    "# Linear Algebra\n",
    "\n",
    "# inv(), det(), eig()\n",
    "\n",
    "import numpy as np\n",
    "from scipy.linalg import inv, det, eig\n",
    "\n",
    "\n",
    "# Create a square matrix\n",
    "A = np.array([[4, 2], [3, 1]])\n",
    "\n",
    "# Calculate the inverse of a matrix\n",
    "A_inv = inv(A)\n",
    "\n",
    "print(A_inv)\n",
    "\n",
    "# Calculate the determinant of a matrix\n",
    "A_det = det(A)\n",
    "\n",
    "print(A_det)\n",
    "\n",
    "# Calculate the eigenvalues and eigenvectors of a matrix\n",
    "eigenvalues, eigenvectors = eig(A)\n",
    "\n",
    "print(eigenvalues, eigenvectors)"
   ]
  },
  {
   "cell_type": "code",
   "execution_count": 6,
   "id": "e1c61537",
   "metadata": {},
   "outputs": [
    {
     "name": "stdout",
     "output_type": "stream",
     "text": [
      "  message: Optimization terminated successfully.\n",
      "  success: True\n",
      "   status: 0\n",
      "      fun: -0.2499999999999991\n",
      "        x: [-2.500e+00]\n",
      "      nit: 2\n",
      "      jac: [-5.960e-08]\n",
      " hess_inv: [[ 5.000e-01]]\n",
      "     nfev: 6\n",
      "     njev: 3\n"
     ]
    }
   ],
   "source": [
    "# Calculus\n",
    "\n",
    "from scipy.optimize import minimize, fsolve\n",
    "\n",
    "# Define a simple objective function\n",
    "def objective_function(x):\n",
    "    return x**2 + 5*x + 6\n",
    "\n",
    "# Minimize the objective function\n",
    "result_minimize = minimize(objective_function, x0=0)\n",
    "\n",
    "print(result_minimize)\n"
   ]
  },
  {
   "cell_type": "code",
   "execution_count": 8,
   "id": "ffe30a9e-0704-440d-aa8d-10794683a058",
   "metadata": {},
   "outputs": [
    {
     "name": "stdout",
     "output_type": "stream",
     "text": [
      "[1.5 0.5]\n"
     ]
    }
   ],
   "source": [
    "# Solve a system of nonlinear equations\n",
    "def equations_system(x):\n",
    "    return [x[0] + x[1] - 2, x[0] - x[1] - 1]\n",
    "\n",
    "result_fsolve = fsolve(equations_system, x0=[0, 0])\n",
    "\n",
    "\n",
    "print(result_fsolve)"
   ]
  },
  {
   "cell_type": "code",
   "execution_count": 16,
   "id": "2c363f49-4563-4341-9b92-cedfb623d983",
   "metadata": {},
   "outputs": [
    {
     "name": "stdout",
     "output_type": "stream",
     "text": [
      "        message: Optimization terminated successfully. (HiGHS Status 7: Optimal)\n",
      "        success: True\n",
      "         status: 0\n",
      "            fun: 7.5\n",
      "              x: [ 0.000e+00  2.500e+00]\n",
      "            nit: 0\n",
      "          lower:  residual: [ 0.000e+00  2.500e+00]\n",
      "                 marginals: [ 5.000e-01  0.000e+00]\n",
      "          upper:  residual: [       inf        inf]\n",
      "                 marginals: [ 0.000e+00  0.000e+00]\n",
      "          eqlin:  residual: [ 0.000e+00]\n",
      "                 marginals: [ 1.500e+00]\n",
      "        ineqlin:  residual: []\n",
      "                 marginals: []\n",
      " mip_node_count: 0\n",
      " mip_dual_bound: 0.0\n",
      "        mip_gap: 0.0\n",
      "  message: Optimization terminated successfully.\n",
      "  success: True\n",
      "   status: 0\n",
      "      fun: -0.2499999999999991\n",
      "        x: [-2.500e+00]\n",
      "      nit: 2\n",
      "      jac: [-5.960e-08]\n",
      " hess_inv: [[ 5.000e-01]]\n",
      "     nfev: 6\n",
      "     njev: 3\n"
     ]
    }
   ],
   "source": [
    "# Optimization:\n",
    "\n",
    "from scipy.optimize import minimize, linprog\n",
    "\n",
    "# Define a linear objective function for optimization\n",
    "c = [2, 3]  # Coefficients of the objective function\n",
    "A_eq = [[1, 2]]  # Coefficients of the equality constraint\n",
    "b_eq = [5]  # RHS value of the equality constraint\n",
    "\n",
    "# Linear programming optimization\n",
    "result_linprog = linprog(c, A_eq=A_eq, b_eq=b_eq)\n",
    "\n",
    "print(result_linprog)\n",
    "\n",
    "# Nonlinear optimization using the minimize function\n",
    "result_minimize_opt = minimize(objective_function, x0=0)\n",
    "\n",
    "print(result_minimize_opt)"
   ]
  },
  {
   "cell_type": "code",
   "execution_count": 12,
   "id": "aff8c84d-7c8f-4a6c-8dda-c5507d8861f8",
   "metadata": {},
   "outputs": [
    {
     "name": "stdout",
     "output_type": "stream",
     "text": [
      "[ 1.76478563 -0.34341981 -0.3187951  -0.0045861   0.56689497  1.33242092\n",
      " -0.2008471   0.05986799 -1.77137024 -1.00919321 -0.13882225 -2.40083089\n",
      "  0.20743836 -0.51369771 -0.73231216  1.11991503 -1.23651298 -0.78674413\n",
      " -0.71147694 -0.53737082  0.02233028  0.55564768 -1.27703945 -1.81058578\n",
      " -1.53788176 -0.69549441  0.32997491  0.77053302 -2.17627071 -0.17600095\n",
      " -1.119487   -0.02329611 -0.86562365 -0.8935118   0.49833181 -1.46579863\n",
      "  0.54306805 -0.63995799  1.19315325 -1.26188065  0.28519784 -0.56363251\n",
      " -0.85633347  1.65928476 -0.86429696  0.55717226  1.64057508  0.15488584\n",
      " -0.44453014  0.64409045 -1.42425567 -1.81542929  1.34966281 -0.49469944\n",
      "  0.70905807 -0.51803331  1.70694463  0.26524354  0.80095932 -1.34147042\n",
      "  0.5829049  -2.17982156  0.07598665  0.36364619 -0.52621247  1.64793898\n",
      "  0.38405401  1.75772138  0.81508095 -0.36456969 -0.48470856  1.24574701\n",
      "  0.0311195  -1.05252785 -1.77469667 -0.64132597 -0.0778662   1.04344099\n",
      " -0.17543727 -0.6055867  -0.47377288 -2.9194771  -0.17461575  0.31964014\n",
      "  1.49915086 -0.11627714 -0.70765774 -0.06064665 -1.02302624 -2.30529674\n",
      "  0.95274645 -1.34276023  0.78221307 -1.17407219 -0.78033557  1.30275637\n",
      "  0.29805535  0.61014342 -0.01229759  0.5765088 ]\n",
      "DescribeResult(nobs=100, minmax=(-2.9194770972424853, 1.7647856251631366), mean=-0.18918186847983734, variance=1.082845203591615, skewness=-0.14405581765908987, kurtosis=-0.3818901894712856)\n"
     ]
    }
   ],
   "source": [
    "# Descriptive Statistics\n",
    "\n",
    "from scipy.stats import describe\n",
    "\n",
    "# Generate a random dataset\n",
    "data = np.random.randn(100)\n",
    "\n",
    "print(data)\n",
    "\n",
    "# Compute descriptive statistics\n",
    "stats_result = describe(data)\n",
    "\n",
    "print(stats_result)"
   ]
  },
  {
   "cell_type": "code",
   "execution_count": 24,
   "id": "7df70319-afc8-4974-8162-2a41f423dbb7",
   "metadata": {},
   "outputs": [
    {
     "name": "stdout",
     "output_type": "stream",
     "text": [
      "-8.684346651956716 1.4164416931647785e-15\n",
      "524.0 5.9815593467234296e-12\n",
      "15.041666666666666 0.00010516355403363106\n"
     ]
    }
   ],
   "source": [
    "# Inferential Statistics and Hypothesis Testing\n",
    "\n",
    "from scipy.stats import ttest_ind, wilcoxon, chi2_contingency\n",
    "\n",
    "# Generate two random samples\n",
    "sample1 = np.random.normal(0, 1, 100)\n",
    "sample2 = np.random.normal(1, 1, 100)\n",
    "\n",
    "# Independent two-sample t-test\n",
    "t_stat, p_value = ttest_ind(sample1, sample2)\n",
    "\n",
    "print(t_stat, p_value)\n",
    "\n",
    "# Wilcoxon signed-rank test for paired samples\n",
    "wilcoxon_stat, wilcoxon_p_value = wilcoxon(sample1, sample2)\n",
    "\n",
    "print(wilcoxon_stat, wilcoxon_p_value)\n",
    "\n",
    "\n",
    "# Chi-squared test for independence\n",
    "contingency_table = np.array([[30, 10], [20, 40]])\n",
    "chi2_stat, chi2_p_value, _, _ = chi2_contingency(contingency_table)\n",
    "\n",
    "print(chi2_stat, chi2_p_value)"
   ]
  },
  {
   "cell_type": "markdown",
   "id": "561d94c3-37e8-4bc1-be22-058725c26acc",
   "metadata": {},
   "source": [
    "| Test                  | Use Case                              | Your Result      | Interpretation         |\n",
    "| --------------------- | ------------------------------------- | ---------------- | ---------------------- |\n",
    "| t-test (`ttest_ind`)  | Mean difference (independent samples) | Likely p < 0.05  | Significant difference |\n",
    "| Wilcoxon (`wilcoxon`) | Paired samples, non-normal data       | Use with caution | Likely invalid usage   |\n",
    "| Chi-squared           | Categorical variable independence     | Likely p < 0.05  | Association exists     |\n"
   ]
  }
 ],
 "metadata": {
  "kernelspec": {
   "display_name": "Python 3 (ipykernel)",
   "language": "python",
   "name": "python3"
  },
  "language_info": {
   "codemirror_mode": {
    "name": "ipython",
    "version": 3
   },
   "file_extension": ".py",
   "mimetype": "text/x-python",
   "name": "python",
   "nbconvert_exporter": "python",
   "pygments_lexer": "ipython3",
   "version": "3.12.7"
  }
 },
 "nbformat": 4,
 "nbformat_minor": 5
}
