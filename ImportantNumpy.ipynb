{
 "cells": [
  {
   "cell_type": "code",
   "execution_count": 16,
   "id": "8a7d3e72",
   "metadata": {},
   "outputs": [
    {
     "name": "stdout",
     "output_type": "stream",
     "text": [
      "[1 2 3 4]\n",
      "[[1 2 3]\n",
      " [4 5 6]\n",
      " [7 8 9]]\n"
     ]
    }
   ],
   "source": [
    "# Numpy create a numpy array\n",
    "\n",
    "import numpy as np\n",
    "\n",
    "# 1D Array\n",
    "d1 = np.array([1,2,3,4])\n",
    "\n",
    "# 2D Array\n",
    "d2 = np.array([[1,2,3],[4,5,6],[7,8,9]])\n",
    "\n",
    "print(d1)\n",
    "print(d2)\n"
   ]
  },
  {
   "cell_type": "code",
   "execution_count": 17,
   "id": "2299f96e",
   "metadata": {},
   "outputs": [
    {
     "name": "stdout",
     "output_type": "stream",
     "text": [
      "(3, 3)\n",
      "2\n",
      "9\n"
     ]
    }
   ],
   "source": [
    "# Shape size and dimensions\n",
    "\n",
    "# get shape\n",
    "shape2d = d2.shape\n",
    "\n",
    "print(shape2d)\n",
    "\n",
    "# get dim\n",
    "dim = d2.ndim\n",
    "\n",
    "print(dim)\n",
    "\n",
    "# get total number of elements\n",
    "ele = d2.size\n",
    "\n",
    "print(ele)"
   ]
  },
  {
   "cell_type": "code",
   "execution_count": 24,
   "id": "db566f57",
   "metadata": {},
   "outputs": [
    {
     "name": "stdout",
     "output_type": "stream",
     "text": [
      "3\n",
      "[2 3 4]\n",
      "6\n",
      "[[2 3]\n",
      " [5 6]\n",
      " [8 9]]\n"
     ]
    }
   ],
   "source": [
    "# Indexing and Slicing\n",
    "\n",
    "e = d1[2]\n",
    "\n",
    "print(e)\n",
    "\n",
    "\n",
    "# slicing array\n",
    "\n",
    "sl1 = d1[1:4]\n",
    "\n",
    "print(sl1)\n",
    "\n",
    "\n",
    "# indexing 2D array\n",
    "\n",
    "e2 = d2[1,2]\n",
    "\n",
    "print(e2)\n",
    "\n",
    "\n",
    "# slicing 2D array\n",
    "\n",
    "sl2 = d2[:][:, 1:3]\n",
    "\n",
    "print(sl2)"
   ]
  },
  {
   "cell_type": "code",
   "execution_count": null,
   "id": "70489e8c",
   "metadata": {},
   "outputs": [
    {
     "name": "stdout",
     "output_type": "stream",
     "text": [
      "[[1 2 3]\n",
      " [4 5 6]]\n"
     ]
    }
   ],
   "source": [
    "# Reshaping\n",
    "\n",
    "reshaped_array = np.array([1,2,3,4,5,6]).reshape(2,3)\n",
    "\n",
    "print(reshaped_array)"
   ]
  },
  {
   "cell_type": "code",
   "execution_count": 29,
   "id": "7b26ddfd",
   "metadata": {},
   "outputs": [
    {
     "name": "stdout",
     "output_type": "stream",
     "text": [
      "[3 3 7]\n",
      "[ 4 10 18]\n",
      "32\n"
     ]
    }
   ],
   "source": [
    "# Mathematical Operations\n",
    "\n",
    "# element wise addition\n",
    "\n",
    "sum_np = np.array([1,2,3]) + np.array([2,1,4])\n",
    "\n",
    "print(sum_np)\n",
    "\n",
    "\n",
    "# Element-wise multiplication\n",
    "product_array = np.array([1, 2, 3]) * np.array([4, 5, 6])\n",
    "\n",
    "print(product_array)\n",
    "\n",
    "# Dot product of two arrays\n",
    "dot_product = np.dot(np.array([1, 2, 3]), np.array([4, 5, 6]))\n",
    "\n",
    "print(dot_product)\n"
   ]
  },
  {
   "cell_type": "code",
   "execution_count": 31,
   "id": "31ef2455",
   "metadata": {},
   "outputs": [
    {
     "name": "stdout",
     "output_type": "stream",
     "text": [
      "3.0\n",
      "3.0\n",
      "1.4142135623730951\n"
     ]
    }
   ],
   "source": [
    "# Statistical Operations\n",
    "\n",
    "# mean, mode, std\n",
    "\n",
    "# Calculate mean of an array\n",
    "mean_value = np.mean(np.array([1, 2, 3, 4, 5]))\n",
    "\n",
    "print(mean_value)\n",
    "\n",
    "# Calculate median of an array\n",
    "median_value = np.median(np.array([1, 2, 3, 4, 5]))\n",
    "\n",
    "print(median_value)\n",
    "\n",
    "\n",
    "# Calculate standard deviation of an array\n",
    "std_deviation = np.std(np.array([1, 2, 3, 4, 5]))\n",
    "\n",
    "print(std_deviation)\n"
   ]
  },
  {
   "cell_type": "code",
   "execution_count": 33,
   "id": "120587aa",
   "metadata": {},
   "outputs": [
    {
     "name": "stdout",
     "output_type": "stream",
     "text": [
      "[[ 8 10 12]\n",
      " [14 16 18]]\n",
      "[[ 5  7  9]\n",
      " [17 19 21]]\n",
      "[[ 6 15]\n",
      " [24 33]]\n"
     ]
    }
   ],
   "source": [
    "# Higher-Dimensional Array Operations:\n",
    "\n",
    "# Create a 3D array\n",
    "array_3d = np.array([[[1, 2, 3], [4, 5, 6]], [[7, 8, 9], [10, 11, 12]]])\n",
    "\n",
    "sum_axis_0 = np.sum(array_3d, axis=0 )\n",
    "\n",
    "print(sum_axis_0)\n",
    "\n",
    "sum_axis_1 = np.sum(array_3d, axis=1 )\n",
    "\n",
    "print(sum_axis_1)\n",
    "\n",
    "sum_axis_2 = np.sum(array_3d, axis=2 )\n",
    "\n",
    "print(sum_axis_2)"
   ]
  },
  {
   "cell_type": "code",
   "execution_count": 35,
   "id": "f26ba558",
   "metadata": {},
   "outputs": [
    {
     "name": "stdout",
     "output_type": "stream",
     "text": [
      "[2 9]\n",
      "[6 7 8 9]\n"
     ]
    }
   ],
   "source": [
    "# Advanced Indexing\n",
    "\n",
    "# Create a 2D array\n",
    "array_2d = np.array([[1, 2, 3], [4, 5, 6], [7, 8, 9]])\n",
    "\n",
    "# Fancy indexing - selecting specific elements\n",
    "selected_elements = array_2d[[0, 2], [1, 2]]  # Select elements at (0, 1) and (2, 2)\n",
    "\n",
    "print(selected_elements)\n",
    "\n",
    "\n",
    "# Boolean indexing - selecting elements based on a condition\n",
    "condition = array_2d > 5\n",
    "elements_greater_than_5 = array_2d[condition]\n",
    "\n",
    "print(elements_greater_than_5)"
   ]
  }
 ],
 "metadata": {
  "kernelspec": {
   "display_name": "aiml",
   "language": "python",
   "name": "python3"
  },
  "language_info": {
   "codemirror_mode": {
    "name": "ipython",
    "version": 3
   },
   "file_extension": ".py",
   "mimetype": "text/x-python",
   "name": "python",
   "nbconvert_exporter": "python",
   "pygments_lexer": "ipython3",
   "version": "3.10.18"
  }
 },
 "nbformat": 4,
 "nbformat_minor": 5
}
